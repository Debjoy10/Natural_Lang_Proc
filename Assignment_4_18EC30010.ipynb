{
 "cells": [
  {
   "cell_type": "markdown",
   "metadata": {},
   "source": [
    "### POS tagging using Conditional Random Fields(CRFs)"
   ]
  },
  {
   "cell_type": "code",
   "execution_count": 1,
   "metadata": {},
   "outputs": [],
   "source": [
    "# Imports\n",
    "\n",
    "import matplotlib.pyplot as plt\n",
    "plt.style.use('ggplot')\n",
    "\n",
    "%matplotlib inline"
   ]
  },
  {
   "cell_type": "code",
   "execution_count": 2,
   "metadata": {},
   "outputs": [],
   "source": [
    "import warnings\n",
    "warnings.filterwarnings('ignore')\n",
    "\n",
    "from itertools import chain\n",
    "import nltk\n",
    "import sklearn\n",
    "\n",
    "import sklearn_crfsuite\n",
    "from sklearn_crfsuite import scorers\n",
    "from sklearn_crfsuite import metrics"
   ]
  },
  {
   "cell_type": "code",
   "execution_count": 3,
   "metadata": {},
   "outputs": [],
   "source": [
    "from io import open\n",
    "from conllu import parse, parse_tree, parse_incr\n",
    "\n",
    "# Data files\n",
    "train_df = 'hi-ud-train.conllu'\n",
    "test_df = 'hi-ud-test .conllu'\n",
    "\n",
    "# Extract Data function\n",
    "def extract_data(data_file, delimiter = ','):\n",
    "    corpus = open(data_file, \"r\", encoding=\"utf-8\").readlines()\n",
    "    sents = []\n",
    "    sample = []\n",
    "    for sent in corpus[1:]:\n",
    "        processed_sent = sent.strip('\\n').split(delimiter)\n",
    "        if processed_sent == ['', '', '']:\n",
    "            sents.append(sample)\n",
    "            sample = []\n",
    "        else:\n",
    "            sample.append(processed_sent)\n",
    "    return sents\n",
    "\n",
    "# Train\n",
    "train_sents = extract_data(train_df, ',')\n",
    "\n",
    "# Test\n",
    "test_sents = extract_data(test_df, '\\t')"
   ]
  },
  {
   "cell_type": "markdown",
   "metadata": {},
   "source": [
    "### Feature Description\n",
    "<ol>\n",
    "<li>Index</li>\n",
    "<li>Word</li>\n",
    "<li>Suffices</li>\n",
    "<li>Prefices</li>\n",
    "<li>Is Uppercase?</li>\n",
    "<li>Is Title?</li>\n",
    "<li>Is Digit?</li>\n",
    "<li>Preceding Word</li>\n",
    "<li>Succeeding Word</li>\n",
    "</ol>\n",
    "\n",
    "##### where,  \n",
    "**Index:** Position of the word in the sentence  \n",
    "**Word:** Lowercase version of the current word  \n",
    "**Suffix:** 1, 2, 3-length suffices of the word  \n",
    "**Prefix:** 1, 2, 3-length prefices of the word  \n",
    "**Preceding and Succeeding Words** Features 2, 5, 6, 7 for the previous and next words in the sentence\n",
    "\n",
    "#### Justification:\n",
    "Index was included to encode the position of the word in the sentence. Suffices and Prefices were added to give a sense of the tense and word-form. Other small features(case, digit) were also included. Previous and Next words were included to give a sense of the context.  \n",
    "Stemmed version of word was tried as well. But it gave negligible improvements in performance due to redundancy with word suffix, prefix-features."
   ]
  },
  {
   "cell_type": "code",
   "execution_count": 4,
   "metadata": {},
   "outputs": [],
   "source": [
    "# Word Feature Extraction for CRF\n",
    "def word2features(sent, i):\n",
    "    index = sent[i][0]\n",
    "    word = sent[i][1]\n",
    "    postag = sent[i][2]\n",
    "\n",
    "    features = {\n",
    "        'bias': 1.0,\n",
    "        'index': index,\n",
    "        'word.lower()': word.lower(),\n",
    "        'word[-3:]': word[-3:],\n",
    "        'word[-2:]': word[-2:],\n",
    "        'word[-1:]': word[-1:],\n",
    "        'word[:3]': word[:3],\n",
    "        'word[:2]': word[:2],\n",
    "        'word[:1]': word[:1],\n",
    "        'word.isupper()': word.isupper(),\n",
    "        'word.istitle()': word.istitle(),\n",
    "        'word.isdigit()': word.isdigit(),\n",
    "    }\n",
    "    if i > 0:\n",
    "        word1 = sent[i-1][0]\n",
    "        postag1 = sent[i-1][1]\n",
    "        features.update({\n",
    "            '-1:word.lower()': word1.lower(),\n",
    "            '-1:word.istitle()': word1.istitle(),\n",
    "            '-1:word.isupper()': word1.isupper(),\n",
    "            '-1:word.isdigit()': word1.isdigit(),\n",
    "        })\n",
    "    else:\n",
    "        features['BOS'] = True\n",
    "\n",
    "    if i < len(sent)-1:\n",
    "        word1 = sent[i+1][0]\n",
    "        postag1 = sent[i+1][1]\n",
    "        features.update({\n",
    "            '+1:word.lower()': word1.lower(),\n",
    "            '+1:word.istitle()': word1.istitle(),\n",
    "            '+1:word.isupper()': word1.isupper(),\n",
    "            '+1:word.isdigit()': word1.isdigit(),\n",
    "        })\n",
    "    else:\n",
    "        features['EOS'] = True\n",
    "\n",
    "    return features\n",
    "\n",
    "# Sentence Feature Extraction\n",
    "def sent2features(sent):\n",
    "    return [word2features(sent, i) for i in range(len(sent))]\n",
    "\n",
    "def sent2labels(sent):\n",
    "    return [postag for index, token, postag in sent]\n",
    "\n",
    "def sent2tokens(sent):\n",
    "    return [token for index, token, postag in sent]"
   ]
  },
  {
   "cell_type": "code",
   "execution_count": 5,
   "metadata": {},
   "outputs": [],
   "source": [
    "# Collecting data\n",
    "X_train = [sent2features(s) for s in train_sents]\n",
    "y_train = [sent2labels(s) for s in train_sents]\n",
    "\n",
    "X_test = [sent2features(s) for s in test_sents]\n",
    "y_test = [sent2labels(s) for s in test_sents]"
   ]
  },
  {
   "cell_type": "code",
   "execution_count": 6,
   "metadata": {},
   "outputs": [
    {
     "data": {
      "text/plain": [
       "CRF(algorithm='lbfgs', all_possible_states=None, all_possible_transitions=True,\n",
       "    averaging=None, c=None, c1=0.1, c2=0.1, calibration_candidates=None,\n",
       "    calibration_eta=None, calibration_max_trials=None, calibration_rate=None,\n",
       "    calibration_samples=None, delta=None, epsilon=None, error_sensitive=None,\n",
       "    gamma=None, keep_tempfiles=None, linesearch=None, max_iterations=100,\n",
       "    max_linesearch=None, min_freq=None, model_filename=None, num_memories=None,\n",
       "    pa_type=None, period=None, trainer_cls=None, variance=None, verbose=False)"
      ]
     },
     "execution_count": 6,
     "metadata": {},
     "output_type": "execute_result"
    }
   ],
   "source": [
    "# Initialise CRF model by defining hyper-parameters\n",
    "crf = sklearn_crfsuite.CRF(\n",
    "    algorithm='lbfgs',\n",
    "    c1=0.1,\n",
    "    c2=0.1,\n",
    "    max_iterations=100,\n",
    "    all_possible_transitions=True\n",
    ")\n",
    "\n",
    "# Train the model\n",
    "crf.fit(X_train, y_train)"
   ]
  },
  {
   "cell_type": "code",
   "execution_count": 7,
   "metadata": {},
   "outputs": [
    {
     "name": "stdout",
     "output_type": "stream",
     "text": [
      "All POS-labels in training data: \n",
      "['DET', 'PROPN', 'ADP', 'ADV', 'ADJ', 'NOUN', 'NUM', 'AUX', 'PUNCT', 'PRON', 'VERB', 'CCONJ', 'PART', 'COMMA', 'SCONJ', 'X']\n"
     ]
    }
   ],
   "source": [
    "labels = list(crf.classes_)\n",
    "print(\"All POS-labels in training data: \")\n",
    "print(labels)"
   ]
  },
  {
   "cell_type": "code",
   "execution_count": 8,
   "metadata": {},
   "outputs": [
    {
     "name": "stdout",
     "output_type": "stream",
     "text": [
      "Results on Train set: \n",
      "Accuracy = 0.9817057120294814, F1 score = 0.9816811705060093\n",
      "----------------------------------------------------------------------\n",
      "Results on Test set: \n",
      "Accuracy = 0.8511080332409973, F1 score = 0.8490774222129278\n"
     ]
    }
   ],
   "source": [
    "# Make predictions and generate metrics\n",
    "y_train_pred = crf.predict(X_train)\n",
    "f1 = metrics.flat_f1_score(y_train, y_train_pred, average='weighted', labels=labels)\n",
    "acc = metrics.flat_accuracy_score(y_train, y_train_pred)\n",
    "\n",
    "print(\"Results on Train set: \")\n",
    "print(\"Accuracy = {}, F1 score = {}\".format(acc, f1))\n",
    "print(\"-\"*70)\n",
    "\n",
    "y_pred = crf.predict(X_test)\n",
    "f1 = metrics.flat_f1_score(y_test, y_pred, average='weighted', labels=labels)\n",
    "acc = metrics.flat_accuracy_score(y_test, y_pred)\n",
    "\n",
    "print(\"Results on Test set: \")\n",
    "print(\"Accuracy = {}, F1 score = {}\".format(acc, f1))"
   ]
  },
  {
   "cell_type": "code",
   "execution_count": 9,
   "metadata": {},
   "outputs": [
    {
     "name": "stdout",
     "output_type": "stream",
     "text": [
      "Results on Train Set: \n",
      "              precision    recall  f1-score   support\n",
      "\n",
      "           X      1.000     1.000     1.000         2\n",
      "        PART      0.994     1.000     0.997       163\n",
      "       CCONJ      0.987     1.000     0.993       150\n",
      "       SCONJ      0.984     1.000     0.992        61\n",
      "         ADJ      0.982     0.981     0.982       569\n",
      "         ADP      0.984     0.993     0.988      1384\n",
      "         ADV      0.890     0.882     0.886       110\n",
      "        VERB      0.992     0.956     0.974       639\n",
      "         DET      0.937     0.970     0.953       230\n",
      "       COMMA      1.000     1.000     1.000       114\n",
      "        NOUN      0.981     0.984     0.982      1596\n",
      "        PRON      0.986     0.958     0.972       430\n",
      "       PROPN      0.986     0.970     0.978       707\n",
      "         NUM      0.980     0.987     0.984       152\n",
      "       PUNCT      1.000     1.000     1.000       563\n",
      "         AUX      0.971     0.996     0.983       728\n",
      "\n",
      "    accuracy                          0.982      7598\n",
      "   macro avg      0.978     0.980     0.979      7598\n",
      "weighted avg      0.982     0.982     0.982      7598\n",
      "\n",
      "----------------------------------------------------------------------\n",
      "Results on Test Set: \n",
      "              precision    recall  f1-score   support\n",
      "\n",
      "           X      0.000     0.000     0.000         0\n",
      "        PART      1.000     1.000     1.000        33\n",
      "       CCONJ      1.000     1.000     1.000        25\n",
      "       SCONJ      0.750     1.000     0.857         3\n",
      "         ADJ      0.731     0.723     0.727        94\n",
      "         ADP      0.961     0.970     0.966       303\n",
      "         ADV      0.562     0.429     0.486        21\n",
      "        VERB      0.854     0.828     0.841        99\n",
      "         DET      0.865     0.889     0.877        36\n",
      "       COMMA      0.000     0.000     0.000         0\n",
      "        NOUN      0.775     0.892     0.829       324\n",
      "        PRON      0.931     0.831     0.878        65\n",
      "       PROPN      0.613     0.528     0.567       144\n",
      "         NUM      0.875     0.840     0.857        25\n",
      "       PUNCT      1.000     0.836     0.911       134\n",
      "         AUX      0.916     0.949     0.932       138\n",
      "\n",
      "   micro avg      0.851     0.851     0.851      1444\n",
      "   macro avg      0.740     0.732     0.733      1444\n",
      "weighted avg      0.852     0.851     0.849      1444\n",
      "\n"
     ]
    }
   ],
   "source": [
    "# Print Classification report\n",
    "# Sort Labels\n",
    "sorted_labels = sorted(\n",
    "    labels,\n",
    "    key=lambda name: (name[1:], name[0])\n",
    ")\n",
    "\n",
    "print(\"Results on Train Set: \")\n",
    "print(metrics.flat_classification_report(\n",
    "    y_train, y_train_pred, labels=sorted_labels, digits=3\n",
    "))\n",
    "\n",
    "print(\"-\"*70)\n",
    "\n",
    "print(\"Results on Test Set: \")\n",
    "print(metrics.flat_classification_report(\n",
    "    y_test, y_pred, labels=sorted_labels, digits=3\n",
    "))"
   ]
  },
  {
   "cell_type": "markdown",
   "metadata": {},
   "source": [
    "### Hyperparameter Search using RandomizedSearchCV"
   ]
  },
  {
   "cell_type": "code",
   "execution_count": 10,
   "metadata": {},
   "outputs": [
    {
     "name": "stdout",
     "output_type": "stream",
     "text": [
      "Fitting 3 folds for each of 50 candidates, totalling 150 fits\n"
     ]
    },
    {
     "name": "stderr",
     "output_type": "stream",
     "text": [
      "[Parallel(n_jobs=-1)]: Using backend LokyBackend with 4 concurrent workers.\n",
      "[Parallel(n_jobs=-1)]: Done  42 tasks      | elapsed:   48.8s\n",
      "[Parallel(n_jobs=-1)]: Done 150 out of 150 | elapsed:  2.7min finished\n"
     ]
    },
    {
     "data": {
      "text/plain": [
       "RandomizedSearchCV(cv=3, error_score=nan,\n",
       "                   estimator=CRF(algorithm='lbfgs', all_possible_states=None,\n",
       "                                 all_possible_transitions=True, averaging=None,\n",
       "                                 c=None, c1=None, c2=None,\n",
       "                                 calibration_candidates=None,\n",
       "                                 calibration_eta=None,\n",
       "                                 calibration_max_trials=None,\n",
       "                                 calibration_rate=None,\n",
       "                                 calibration_samples=None, delta=None,\n",
       "                                 epsilon=None, error_sensitive=None, gamma=None,\n",
       "                                 keep_...\n",
       "                   param_distributions={'c1': <scipy.stats._distn_infrastructure.rv_frozen object at 0x7f73110f6490>,\n",
       "                                        'c2': <scipy.stats._distn_infrastructure.rv_frozen object at 0x7f73110284d0>},\n",
       "                   pre_dispatch='2*n_jobs', random_state=None, refit=True,\n",
       "                   return_train_score=False,\n",
       "                   scoring=make_scorer(flat_f1_score, average=weighted, labels=['DET', 'PROPN', 'ADP', 'ADV', 'ADJ', 'NOUN', 'NUM', 'AUX', 'PUNCT', 'PRON', 'VERB', 'CCONJ', 'PART', 'COMMA', 'SCONJ', 'X']),\n",
       "                   verbose=1)"
      ]
     },
     "execution_count": 10,
     "metadata": {},
     "output_type": "execute_result"
    }
   ],
   "source": [
    "# Hyperparameter Search\n",
    "\n",
    "import scipy.stats\n",
    "from sklearn.metrics import make_scorer\n",
    "from sklearn.model_selection import RandomizedSearchCV\n",
    "\n",
    "# Define fixed parameters and parameters to search\n",
    "crf = sklearn_crfsuite.CRF(\n",
    "    algorithm='lbfgs',\n",
    "    max_iterations=100,\n",
    "    all_possible_transitions=True\n",
    ")\n",
    "params_space = {\n",
    "    'c1': scipy.stats.expon(scale=0.1),\n",
    "    'c2': scipy.stats.expon(scale=0.1),\n",
    "}\n",
    "\n",
    "# Use the same metric for evaluation\n",
    "f1_scorer = make_scorer(metrics.flat_f1_score,\n",
    "                        average='weighted', labels=labels)\n",
    "\n",
    "# Search\n",
    "rs = RandomizedSearchCV(crf, params_space,\n",
    "                        cv=3,\n",
    "                        verbose=1,\n",
    "                        n_jobs=-1,\n",
    "                        n_iter=50,\n",
    "                        scoring=f1_scorer);\n",
    "rs.fit(X_train, y_train)"
   ]
  },
  {
   "cell_type": "code",
   "execution_count": 11,
   "metadata": {},
   "outputs": [
    {
     "name": "stdout",
     "output_type": "stream",
     "text": [
      "Best params: {'c1': 0.008851051652355212, 'c2': 0.05179922878053938}\n",
      "Best CV score: 0.8383990355496969\n",
      "Model size: 0.41M\n"
     ]
    }
   ],
   "source": [
    "# Extract model with the best Cross-Validation Score in the train-set\n",
    "crf = rs.best_estimator_\n",
    "print('Best params:', rs.best_params_)\n",
    "print('Best CV score:', rs.best_score_)\n",
    "print('Model size: {:0.2f}M'.format(rs.best_estimator_.size_ / 1000000))"
   ]
  },
  {
   "cell_type": "code",
   "execution_count": 12,
   "metadata": {},
   "outputs": [
    {
     "name": "stdout",
     "output_type": "stream",
     "text": [
      "White => 0.8282, Black => 0.8384\n"
     ]
    },
    {
     "data": {
      "image/png": "[encoded data removed]",
      "text/plain": [
       "<Figure size 864x864 with 1 Axes>"
      ]
     },
     "metadata": {
      "needs_background": "light"
     },
     "output_type": "display_data"
    }
   ],
   "source": [
    "# Plotting parameter values and variation with score\n",
    "_x = rs.cv_results_[\"param_c1\"]\n",
    "_y = rs.cv_results_[\"param_c2\"]\n",
    "_c = rs.cv_results_[\"mean_test_score\"]\n",
    "\n",
    "fig = plt.figure()\n",
    "fig.set_size_inches(12, 12)\n",
    "ax = plt.gca()\n",
    "ax.set_yscale('log')\n",
    "ax.set_xscale('log')\n",
    "ax.set_xlabel('C1')\n",
    "ax.set_ylabel('C2')\n",
    "ax.set_title(\"Randomized Hyperparameter Search CV Results (min={:0.3}, max={:0.3})\".format(\n",
    "    min(_c), max(_c)\n",
    "))\n",
    "\n",
    "ax.scatter(_x, _y, c=_c, s=60, alpha=0.9, edgecolors=[0,0,0], cmap='gray')\n",
    "\n",
    "print(\"White => {:0.4}, Black => {:0.4}\".format(min(_c), max(_c)))"
   ]
  },
  {
   "cell_type": "code",
   "execution_count": 17,
   "metadata": {},
   "outputs": [
    {
     "name": "stdout",
     "output_type": "stream",
     "text": [
      "Results on Train Set: \n",
      "Accuracy: 0.9880231639905238\n",
      "              precision    recall  f1-score   support\n",
      "\n",
      "           X      1.000     1.000     1.000         2\n",
      "        PART      1.000     1.000     1.000       163\n",
      "       CCONJ      0.993     1.000     0.997       150\n",
      "       SCONJ      1.000     1.000     1.000        61\n",
      "         ADJ      0.991     0.991     0.991       569\n",
      "         ADP      0.989     0.993     0.991      1384\n",
      "         ADV      0.910     0.918     0.914       110\n",
      "        VERB      0.995     0.959     0.977       639\n",
      "         DET      0.950     0.983     0.966       230\n",
      "       COMMA      1.000     1.000     1.000       114\n",
      "        NOUN      0.992     0.992     0.992      1596\n",
      "        PRON      0.988     0.967     0.978       430\n",
      "       PROPN      0.991     0.987     0.989       707\n",
      "         NUM      1.000     1.000     1.000       152\n",
      "       PUNCT      1.000     1.000     1.000       563\n",
      "         AUX      0.971     0.999     0.984       728\n",
      "\n",
      "    accuracy                          0.988      7598\n",
      "   macro avg      0.986     0.987     0.986      7598\n",
      "weighted avg      0.988     0.988     0.988      7598\n",
      "\n",
      "----------------------------------------------------------------------\n",
      "Results on Test Set: \n",
      "Accuracy: 0.842797783933518\n",
      "              precision    recall  f1-score   support\n",
      "\n",
      "           X      0.000     0.000     0.000         0\n",
      "        PART      1.000     1.000     1.000        33\n",
      "       CCONJ      1.000     1.000     1.000        25\n",
      "       SCONJ      0.750     1.000     0.857         3\n",
      "         ADJ      0.731     0.723     0.727        94\n",
      "         ADP      0.942     0.967     0.954       303\n",
      "         ADV      0.529     0.429     0.474        21\n",
      "        VERB      0.825     0.859     0.842        99\n",
      "         DET      0.821     0.889     0.853        36\n",
      "       COMMA      0.000     0.000     0.000         0\n",
      "        NOUN      0.773     0.873     0.820       324\n",
      "        PRON      0.930     0.815     0.869        65\n",
      "       PROPN      0.596     0.472     0.527       144\n",
      "         NUM      0.840     0.840     0.840        25\n",
      "       PUNCT      1.000     0.836     0.911       134\n",
      "         AUX      0.910     0.957     0.933       138\n",
      "\n",
      "   micro avg      0.843     0.843     0.843      1444\n",
      "   macro avg      0.728     0.729     0.725      1444\n",
      "weighted avg      0.841     0.843     0.839      1444\n",
      "\n"
     ]
    }
   ],
   "source": [
    "# Print Classification report for the model after hyperparameter tuning\n",
    "# Best Model\n",
    "crf = rs.best_estimator_\n",
    "\n",
    "y_train_pred = crf.predict(X_train)\n",
    "print(\"Results on Train Set: \")\n",
    "acc = metrics.flat_accuracy_score(y_train, y_train_pred)\n",
    "print(\"Accuracy: {}\".format(acc))\n",
    "print(metrics.flat_classification_report(\n",
    "    y_train, y_train_pred, labels=sorted_labels, digits=3\n",
    "))\n",
    "\n",
    "print(\"-\"*70)\n",
    "\n",
    "y_pred = crf.predict(X_test)\n",
    "print(\"Results on Test Set: \")\n",
    "acc = metrics.flat_accuracy_score(y_test, y_pred)\n",
    "print(\"Accuracy: {}\".format(acc))\n",
    "print(metrics.flat_classification_report(\n",
    "    y_test, y_pred, labels=sorted_labels, digits=3\n",
    "))\n",
    "acc = metrics.flat_accuracy_score(y_test, y_pred)"
   ]
  },
  {
   "cell_type": "markdown",
   "metadata": {},
   "source": [
    "**We observe slightly worse performance after hyper-parameter tuning using RandomizedSearchCV as compared to default setting. But we can expect better performance in any other held-out test-set, as compared to the untuned setting.**"
   ]
  },
  {
   "cell_type": "code",
   "execution_count": 14,
   "metadata": {},
   "outputs": [
    {
     "name": "stdout",
     "output_type": "stream",
     "text": [
      "Transition Features in Train-Set\n",
      "----------------------------------------\n",
      "Top 10 likely transitions:\n",
      "VERB   -> AUX     4.030280\n",
      "PROPN  -> PROPN   3.106717\n",
      "AUX    -> AUX     2.597757\n",
      "PART   -> NUM     2.231922\n",
      "DET    -> NOUN    2.069556\n",
      "ADJ    -> NOUN    2.011666\n",
      "VERB   -> SCONJ   1.994042\n",
      "PROPN  -> ADP     1.883917\n",
      "ADP    -> ADP     1.802217\n",
      "PRON   -> ADP     1.783447\n",
      "\n",
      "Top 10 unlikely transitions:\n",
      "NUM    -> PRON    -1.907306\n",
      "DET    -> CCONJ   -2.012440\n",
      "ADV    -> ADV     -2.277243\n",
      "CCONJ  -> PART    -2.581278\n",
      "CCONJ  -> AUX     -2.741781\n",
      "DET    -> ADP     -2.886974\n",
      "ADJ    -> PRON    -2.960006\n",
      "ADV    -> AUX     -3.013792\n",
      "ADJ    -> ADP     -3.023667\n",
      "ADP    -> COMMA   -3.556746\n"
     ]
    }
   ],
   "source": [
    "# Generating Transition Features\n",
    "from collections import Counter\n",
    "\n",
    "def print_transitions(trans_features):\n",
    "    for (label_from, label_to), weight in trans_features:\n",
    "        print(\"%-6s -> %-7s %0.6f\" % (label_from, label_to, weight))\n",
    "\n",
    "print(\"Transition Features in Train-Set\")\n",
    "print(\"-\"*40)\n",
    "print(\"Top 10 likely transitions:\")\n",
    "print_transitions(Counter(crf.transition_features_).most_common(10))\n",
    "\n",
    "print(\"\\nTop 10 unlikely transitions:\")\n",
    "print_transitions(Counter(crf.transition_features_).most_common()[-10:])"
   ]
  },
  {
   "cell_type": "markdown",
   "metadata": {},
   "source": [
    "***Since the CRF model is trained on the train-dataset only, it is unable to extract transition features for the test dataset. For that, we train a dummy CRF model on the test dataset to get an idea of the test Transition features and their likelihood of occuring.***"
   ]
  },
  {
   "cell_type": "code",
   "execution_count": 15,
   "metadata": {},
   "outputs": [
    {
     "name": "stdout",
     "output_type": "stream",
     "text": [
      "Transition Features in Test-Set\n",
      "----------------------------------------\n",
      "Top 10 likely transitions:\n",
      "VERB   -> AUX     3.046096\n",
      "AUX    -> AUX     2.688487\n",
      "PROPN  -> PROPN   2.341409\n",
      "PROPN  -> ADP     2.054003\n",
      "NUM    -> NUM     1.856905\n",
      "AUX    -> PUNCT   1.824838\n",
      "VERB   -> PUNCT   1.745669\n",
      "PART   -> NUM     1.579147\n",
      "ADV    -> DET     1.575871\n",
      "PROPN  -> CCONJ   1.485642\n",
      "\n",
      "Top 10 unlikely transitions:\n",
      "AUX    -> VERB    -0.883839\n",
      "DET    -> ADP     -1.013453\n",
      "NOUN   -> DET     -1.224370\n",
      "VERB   -> PROPN   -1.233202\n",
      "DET    -> PROPN   -1.355719\n",
      "ADP    -> PUNCT   -1.360454\n",
      "PROPN  -> AUX     -1.399564\n",
      "NOUN   -> NOUN    -1.425669\n",
      "PROPN  -> ADJ     -1.676554\n",
      "ADJ    -> ADP     -1.821706\n"
     ]
    }
   ],
   "source": [
    "# Generating Transition Features for Test set\n",
    "crf_dummy = sklearn_crfsuite.CRF(\n",
    "    algorithm='lbfgs',\n",
    "    c1=0.1,\n",
    "    c2=0.1,\n",
    "    max_iterations=100,\n",
    "    all_possible_transitions=True\n",
    ")\n",
    "crf_dummy.fit(X_test, y_test)\n",
    "\n",
    "print(\"Transition Features in Test-Set\")\n",
    "print(\"-\"*40)\n",
    "print(\"Top 10 likely transitions:\")\n",
    "print_transitions(Counter(crf_dummy.transition_features_).most_common(10))\n",
    "\n",
    "print(\"\\nTop 10 unlikely transitions:\")\n",
    "print_transitions(Counter(crf_dummy.transition_features_).most_common()[-10:])"
   ]
  },
  {
   "cell_type": "code",
   "execution_count": null,
   "metadata": {},
   "outputs": [],
   "source": []
  }
 ],
 "metadata": {
  "kernelspec": {
   "display_name": "cs224n",
   "language": "python",
   "name": "cs224n"
  },
  "language_info": {
   "codemirror_mode": {
    "name": "ipython",
    "version": 3
   },
   "file_extension": ".py",
   "mimetype": "text/x-python",
   "name": "python",
   "nbconvert_exporter": "python",
   "pygments_lexer": "ipython3",
   "version": "3.7.7"
  }
 },
 "nbformat": 4,
 "nbformat_minor": 4
}

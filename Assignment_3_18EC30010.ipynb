{
 "cells": [
  {
   "cell_type": "markdown",
   "metadata": {
    "id": "zyJ25uz0kSaw"
   },
   "source": [
    "# Assignment 3 on Natural Language Processing\n",
    "\n",
    "## Date : 30th Sept, 2020\n",
    "\n",
    "### Instructor : Prof. Sudeshna Sarkar\n",
    "\n",
    "### Teaching Assistants : Alapan Kuila, Aniruddha Roy, Anusha Potnuru, Uppada Vishnu"
   ]
  },
  {
   "cell_type": "markdown",
   "metadata": {
    "id": "Ao1nhg9RknmF"
   },
   "source": [
    "The central idea of this assignment is to use Naive Bayes classifier and LSTM based classifier and compare the models by accuracy on IMDB dataset.\n",
    "\n"
   ]
  },
  {
   "cell_type": "markdown",
   "metadata": {
    "id": "ONM5Q4SCe9Mr"
   },
   "source": [
    "Please submit with outputs. "
   ]
  },
  {
   "cell_type": "code",
   "execution_count": 1,
   "metadata": {
    "id": "ElRkQElWUMjG"
   },
   "outputs": [],
   "source": [
    "import re\n",
    "import pandas as pd\n",
    "import numpy as np\n",
    "from sklearn.preprocessing import LabelEncoder\n",
    "from sklearn.model_selection import train_test_split\n",
    "from keras.preprocessing.text import Tokenizer\n",
    "from keras.preprocessing.sequence import pad_sequences\n",
    "import keras\n",
    "from sklearn.metrics import classification_report"
   ]
  },
  {
   "cell_type": "code",
   "execution_count": 2,
   "metadata": {
    "id": "fhHRim2AUm4z"
   },
   "outputs": [],
   "source": [
    "#Load the IMDB dataset. You can load it using pandas as dataframe\n",
    "df = pd.read_csv(\"IMDB Dataset.csv\")"
   ]
  },
  {
   "cell_type": "markdown",
   "metadata": {
    "id": "lK_Hn2f6VMP7"
   },
   "source": [
    "# Preprocessing\n",
    "PrePrecessing that needs to be done on lower cased corpus\n",
    "\n",
    "1. Remove html tags\n",
    "2. Remove URLS\n",
    "3. Remove non alphanumeric character\n",
    "4. Remove Stopwords\n",
    "5. Perform stemming and lemmatization\n",
    "\n",
    "You can use regex from re. "
   ]
  },
  {
   "cell_type": "code",
   "execution_count": 3,
   "metadata": {
    "colab": {
     "base_uri": "https://localhost:8080/",
     "height": 119
    },
    "id": "RaaKfHTzSnrr",
    "outputId": "1683e6d6-1a7d-4b34-ebe2-f88f3bb5d682"
   },
   "outputs": [
    {
     "name": "stdout",
     "output_type": "stream",
     "text": [
      "[nltk_data] Downloading package punkt to /root/nltk_data...\n",
      "[nltk_data]   Package punkt is already up-to-date!\n",
      "[nltk_data] Downloading package stopwords to /root/nltk_data...\n",
      "[nltk_data]   Package stopwords is already up-to-date!\n",
      "[nltk_data] Downloading package wordnet to /root/nltk_data...\n",
      "[nltk_data]   Package wordnet is already up-to-date!\n"
     ]
    }
   ],
   "source": [
    "# Imports\n",
    "import nltk\n",
    "from tqdm import tqdm\n",
    "\n",
    "nltk.download('punkt') # For tokenizers\n",
    "from nltk.tokenize import word_tokenize, sent_tokenize\n",
    "\n",
    "nltk.download('stopwords')\n",
    "from nltk.corpus import stopwords # For stop-words\n",
    "stopwords = stopwords.words('english')\n",
    "\n",
    "from nltk.stem import WordNetLemmatizer\n",
    "nltk.download('wordnet')\n",
    "lemmatizer = WordNetLemmatizer() \n",
    "\n",
    "from nltk.stem import PorterStemmer\n",
    "ps = PorterStemmer()"
   ]
  },
  {
   "cell_type": "code",
   "execution_count": 4,
   "metadata": {
    "colab": {
     "base_uri": "https://localhost:8080/",
     "height": 34
    },
    "id": "5B5lHZPsVOXv",
    "outputId": "04cd53f0-0b76-4e45-fbfa-80360a10f635"
   },
   "outputs": [
    {
     "name": "stderr",
     "output_type": "stream",
     "text": [
      "100%|██████████| 50000/50000 [02:59<00:00, 278.55it/s]\n"
     ]
    }
   ],
   "source": [
    "from nltk.tokenize.treebank import TreebankWordDetokenizer\n",
    "\n",
    "# Functions\n",
    "def cleanhtml(raw_html):\n",
    "    cleanr = re.compile('<.*?>')\n",
    "    cleantext = re.sub(cleanr, '', raw_html)\n",
    "    return cleantext\n",
    "\n",
    "def full_preprocess(sent):\n",
    "    # Remove HTML tags.\n",
    "    sent = cleanhtml(sent)\n",
    "    # Remove URLs\n",
    "    sent = re.sub(r'^https?:\\/\\/.*[\\r\\n]*', '', sent, flags=re.MULTILINE)\n",
    "    # Remove Non-alphanumeric characters\n",
    "    sent = re.sub(r'[^A-Za-z0-9 ]+', '', sent)\n",
    "    # Convert to Lower-Case\n",
    "    sent = sent.lower()\n",
    "    # Tokenize and Remove Stopwords\n",
    "    tokens = word_tokenize(sent)\n",
    "    tokens_wsw = [w for w in tokens if w not in stopwords and w != '']\n",
    "    # Stemming\n",
    "    ps_tokens = [ps.stem(w) for w in tokens_wsw]\n",
    "    # Lemmatization\n",
    "    lemmatized_tokens = [lemmatizer.lemmatize(w) for w in tokens_wsw]\n",
    "    \n",
    "    # We used the lemmatized tokens\n",
    "    return lemmatized_tokens\n",
    "\n",
    "df['review'] = [full_preprocess(x) for x in tqdm(df['review'])]"
   ]
  },
  {
   "cell_type": "code",
   "execution_count": 5,
   "metadata": {
    "colab": {
     "base_uri": "https://localhost:8080/",
     "height": 170
    },
    "id": "DyaSkfcvYGXk",
    "outputId": "58796717-b762-481b-fc11-e03321b36bc5"
   },
   "outputs": [
    {
     "name": "stdout",
     "output_type": "stream",
     "text": [
      "           review\n",
      "sentiment        \n",
      "negative    25000\n",
      "positive    25000\n",
      "\n",
      "Average length of review : 119.76948\n",
      "Max length of review : 1429\n",
      "Min length of review : 0\n",
      "Standard dev of length of review : 89.97188950182776\n"
     ]
    }
   ],
   "source": [
    "# Print Statistics of Data like avg length of sentence , proposition of data w.r.t class labels\n",
    "\n",
    "# Data distribution w.r.t labels\n",
    "print(df.groupby('sentiment').count())\n",
    "\n",
    "# Average Length of sentence\n",
    "review_len = df['review'].apply(lambda x: len(x))\n",
    "print(\"\\nAverage length of review : {}\".format(np.mean(review_len)))\n",
    "print(\"Max length of review : {}\".format(np.max(review_len)))\n",
    "print(\"Min length of review : {}\".format(np.min(review_len)))\n",
    "print(\"Standard dev of length of review : {}\".format(np.std(review_len)))"
   ]
  },
  {
   "cell_type": "markdown",
   "metadata": {
    "id": "_FkJ-e2pUwun"
   },
   "source": [
    "# Naive Bayes classifier"
   ]
  },
  {
   "cell_type": "code",
   "execution_count": 6,
   "metadata": {
    "id": "eVq-mN28U_J4"
   },
   "outputs": [],
   "source": [
    "# get reviews column from df\n",
    "reviews = df['review']\n",
    "\n",
    "# get labels column from df\n",
    "labels = df['sentiment']"
   ]
  },
  {
   "cell_type": "code",
   "execution_count": 7,
   "metadata": {
    "colab": {
     "base_uri": "https://localhost:8080/",
     "height": 34
    },
    "id": "Ljo5NquhXTXr",
    "outputId": "84993508-47c5-4dfd-c195-e6d6a82f69d1"
   },
   "outputs": [
    {
     "name": "stdout",
     "output_type": "stream",
     "text": [
      "['negative' 'positive']\n"
     ]
    }
   ],
   "source": [
    "# Use label encoder to encode labels. Convert to 0/1\n",
    "encoder = LabelEncoder()\n",
    "encoded_labels = encoder.fit_transform(labels)\n",
    "\n",
    "print(encoder.classes_)"
   ]
  },
  {
   "cell_type": "code",
   "execution_count": 8,
   "metadata": {
    "id": "wzG-C_EVWWET"
   },
   "outputs": [],
   "source": [
    "# Split the data into train and test (80% - 20%). \n",
    "# Use stratify in train_test_split so that both train and test have similar ratio of positive and negative samples.\n",
    "\n",
    "train_sentences, test_sentences, train_labels, test_labels = train_test_split(reviews, encoded_labels, test_size=0.2, stratify=encoded_labels)"
   ]
  },
  {
   "cell_type": "markdown",
   "metadata": {
    "id": "Bz1YdsSkiWCX"
   },
   "source": [
    "Here there are two approaches possible for building vocabulary for the naive Bayes.\n",
    "1. Take the whole data (train + test) to build the vocab. In this way while testing there is no word which will be out of vocabulary.\n",
    "2. Take the train data to build vocab. In this case, some words from the test set may not be in vocab and hence one needs to perform smoothing so that one the probability term is not zero.\n",
    " \n",
    "You are supposed to go by the 2nd approach.\n",
    " \n",
    "Also building vocab by taking all words in the train set is memory intensive, hence you are required to build vocab by choosing the top 2000 - 3000 frequent words in the training corpus.\n",
    "\n",
    "> $ P(x_i | w_j) = \\frac{ N_{x_i,w_j}\\, +\\, \\alpha }{ N_{w_j}\\, +\\, \\alpha*d} $\n",
    "\n",
    "\n",
    "$N_{x_i,w_j}$ : Number of times feature $x_i$ appears in samples of class $w_j$\n",
    "\n",
    "$N_{w_j}$ : Total count of features in class $w_j$\n",
    "\n",
    "$\\alpha$ : Parameter for additive smoothing. Here consider $\\alpha$ = 1\n",
    "\n",
    "$d$ : Dimentionality of the feature vector  $x = [x_1,x_2,...,x_d]$. In our case its the vocab size.\n",
    "\n",
    "\n",
    "\n",
    "\n"
   ]
  },
  {
   "cell_type": "code",
   "execution_count": 9,
   "metadata": {
    "id": "1cllNfGmUr77"
   },
   "outputs": [],
   "source": [
    "from sklearn.feature_extraction.text import CountVectorizer\n",
    "# Use Count vectorizer to get frequency of the words\n",
    "'''\n",
    "max_features parameter : If not None, build a vocabulary that only consider the top max_features ordered by term frequency across the corpus.\n",
    "vec = CountVectorizer(max_features = 3000)\n",
    "X = vec.fit_transform(Sentence_list)\n",
    "'''\n",
    "def dummy(doc):\n",
    "    return doc\n",
    "\n",
    "MAX_FEATS = 3000\n",
    "train_vec = CountVectorizer(tokenizer=dummy, preprocessor=dummy, max_features = MAX_FEATS)\n",
    "X_train = train_vec.fit_transform(train_sentences)\n",
    "n_tokens = X_train.toarray().sum(axis=0)\n",
    "\n",
    "# Dict to store frequency of each feature in train\n",
    "vocab = train_vec.get_feature_names()\n",
    "vocab_f = {x:n for x, n in zip(vocab, n_tokens)}"
   ]
  },
  {
   "cell_type": "code",
   "execution_count": 10,
   "metadata": {
    "colab": {
     "base_uri": "https://localhost:8080/",
     "height": 34
    },
    "id": "qzRvPjWaWUnm",
    "outputId": "5860ec1e-6430-4303-f1e2-695a7b3f4cc5"
   },
   "outputs": [
    {
     "name": "stdout",
     "output_type": "stream",
     "text": [
      "Percentage of test tokens NOT in Vocab = 96.00989545926103%\n"
     ]
    }
   ],
   "source": [
    "# Use laplace smoothing for words in test set not present in vocab of train set\n",
    "test_vec = CountVectorizer(tokenizer=dummy, preprocessor=dummy, max_features = None)\n",
    "X_test = test_vec.fit_transform(test_sentences)\n",
    "\n",
    "# Words in test set not present in train set\n",
    "UNK_test = [w for w in test_vec.get_feature_names() if w not in vocab]\n",
    "print(\"Percentage of test tokens NOT in Vocab = {}%\".format(100*len(UNK_test)/len(test_vec.get_feature_names())))"
   ]
  },
  {
   "cell_type": "code",
   "execution_count": 11,
   "metadata": {
    "colab": {
     "base_uri": "https://localhost:8080/",
     "height": 34
    },
    "id": "iE7pxWIYW1z0",
    "outputId": "f1d71f0f-a9af-4837-b8ba-f8cf8ab61b86"
   },
   "outputs": [
    {
     "name": "stderr",
     "output_type": "stream",
     "text": [
      "100%|██████████| 40000/40000 [01:59<00:00, 333.56it/s]\n"
     ]
    }
   ],
   "source": [
    "# Build the model. Don't use the model from sklearn\n",
    "\n",
    "# Collecting same class object in training set\n",
    "train_0 = {key: 0 for key in vocab_f}\n",
    "train_1 = {key: 0 for key in vocab_f}\n",
    "\n",
    "for doc, label in tqdm(zip(train_sentences, train_labels), total = len(train_labels)):\n",
    "    if label:\n",
    "        for x in doc:\n",
    "            if x in vocab:\n",
    "                train_1[x] += 1\n",
    "    else:\n",
    "        for x in doc:\n",
    "            if x in vocab:\n",
    "                train_0[x] += 1\n",
    "\n",
    "total_count_1 = sum(train_1.values())\n",
    "total_count_0 = sum(train_0.values())\n",
    "vocab_size = len(vocab_f)"
   ]
  },
  {
   "cell_type": "code",
   "execution_count": 12,
   "metadata": {
    "id": "701P5PJ5fvty"
   },
   "outputs": [],
   "source": [
    "# Prediction Function\n",
    "def get_preds(test_sentence):\n",
    "    alpha = 1\n",
    "    p_1 = 1\n",
    "    p_0 = 1\n",
    "    for x in test_sentence:\n",
    "        # For Label 1\n",
    "        if x in train_1.keys():\n",
    "            N = train_1[x]\n",
    "        else:\n",
    "            N = 0\n",
    "        p_x1 = (N+alpha)/(total_count_1+alpha*vocab_size)\n",
    "        p_1 *= p_x1\n",
    "  \n",
    "        # For Label 0\n",
    "        if x in train_0.keys():\n",
    "            N = train_0[x]\n",
    "        else:\n",
    "            N = 0\n",
    "        p_x0 = (N+alpha)/(total_count_0+alpha*vocab_size)\n",
    "        p_0 *= p_x0\n",
    "\n",
    "        # To prevent very small\n",
    "        if(p_0 < 1e-100 or p_1 < 1e-100):\n",
    "            p_0 *= 1e100\n",
    "            p_1 *= 1e100\n",
    "\n",
    "    return p_1/(p_1+p_0)"
   ]
  },
  {
   "cell_type": "code",
   "execution_count": 13,
   "metadata": {
    "colab": {
     "base_uri": "https://localhost:8080/",
     "height": 221
    },
    "id": "AtQSl1zvW4DD",
    "outputId": "bb3dbbac-dc82-480d-afd6-853120cb251c"
   },
   "outputs": [
    {
     "name": "stderr",
     "output_type": "stream",
     "text": [
      "100%|██████████| 10000/10000 [00:00<00:00, 12303.33it/s]"
     ]
    },
    {
     "name": "stdout",
     "output_type": "stream",
     "text": [
      "Performance of Naive Bayes Classifier - \n",
      "\n",
      "              precision    recall  f1-score   support\n",
      "\n",
      "           0       0.85      0.84      0.84      5000\n",
      "           1       0.84      0.85      0.84      5000\n",
      "\n",
      "    accuracy                           0.84     10000\n",
      "   macro avg       0.84      0.84      0.84     10000\n",
      "weighted avg       0.84      0.84      0.84     10000\n",
      "\n"
     ]
    },
    {
     "name": "stderr",
     "output_type": "stream",
     "text": [
      "\n"
     ]
    }
   ],
   "source": [
    "# Test the model on test set and report Accuracy\n",
    "test_preds = []\n",
    "for sample in tqdm(test_sentences):\n",
    "    proba = get_preds(sample)\n",
    "    if proba >= 0.5:\n",
    "        test_preds.append(1)\n",
    "    else:\n",
    "        test_preds.append(0) \n",
    "\n",
    "print(\"Performance of Naive Bayes Classifier - \\n\")\n",
    "print(classification_report(test_labels, test_preds))"
   ]
  },
  {
   "cell_type": "markdown",
   "metadata": {
    "id": "WlNql0acU7sa"
   },
   "source": [
    "# *LSTM* based Classifier\n",
    "\n",
    "Use the above train and test splits."
   ]
  },
  {
   "cell_type": "code",
   "execution_count": 14,
   "metadata": {
    "id": "SkqnvbUOXoN0"
   },
   "outputs": [],
   "source": [
    "# Hyperparameters of the model\n",
    "vocab_size = vocab_size # choose based on statistics\n",
    "oov_tok = '<OOK>'\n",
    "embedding_dim = 100\n",
    "max_length = 1430 # choose based on statistics, for example 150 to 200\n",
    "padding_type='post'\n",
    "trunc_type='post'"
   ]
  },
  {
   "cell_type": "code",
   "execution_count": 15,
   "metadata": {
    "id": "UeycEg9nZAOF"
   },
   "outputs": [],
   "source": [
    "# tokenize sentences\n",
    "tokenizer = Tokenizer(num_words = vocab_size, oov_token=oov_tok)\n",
    "tokenizer.fit_on_texts(train_sentences)\n",
    "word_index = tokenizer.word_index\n",
    "\n",
    "# convert train dataset to sequence and pad sequences\n",
    "train_sequences = tokenizer.texts_to_sequences(train_sentences)\n",
    "train_padded = pad_sequences(train_sequences, padding='post', maxlen=max_length)\n",
    "\n",
    "# convert Test dataset to sequence and pad sequences\n",
    "test_sequences = tokenizer.texts_to_sequences(test_sentences)\n",
    "test_padded = pad_sequences(test_sequences, padding='post', maxlen=max_length)"
   ]
  },
  {
   "cell_type": "code",
   "execution_count": 16,
   "metadata": {
    "colab": {
     "base_uri": "https://localhost:8080/",
     "height": 289
    },
    "id": "Mtw3w895ZP39",
    "outputId": "171641dc-d64c-4161-dbc9-ab5e370119a5"
   },
   "outputs": [
    {
     "name": "stdout",
     "output_type": "stream",
     "text": [
      "Model: \"sequential\"\n",
      "_________________________________________________________________\n",
      "Layer (type)                 Output Shape              Param #   \n",
      "=================================================================\n",
      "embedding (Embedding)        (None, 1430, 100)         300000    \n",
      "_________________________________________________________________\n",
      "bidirectional (Bidirectional (None, 128)               84480     \n",
      "_________________________________________________________________\n",
      "dense (Dense)                (None, 24)                3096      \n",
      "_________________________________________________________________\n",
      "dense_1 (Dense)              (None, 1)                 25        \n",
      "=================================================================\n",
      "Total params: 387,601\n",
      "Trainable params: 387,601\n",
      "Non-trainable params: 0\n",
      "_________________________________________________________________\n"
     ]
    }
   ],
   "source": [
    "# model initialization\n",
    "model = keras.Sequential([\n",
    "    keras.layers.Embedding(vocab_size, embedding_dim, input_length=max_length),\n",
    "    keras.layers.Bidirectional(keras.layers.LSTM(64)),\n",
    "    keras.layers.Dense(24, activation='relu'),\n",
    "    keras.layers.Dense(1, activation='sigmoid')\n",
    "])\n",
    "\n",
    "# compile model\n",
    "model.compile(loss='binary_crossentropy',\n",
    "              optimizer='adam',\n",
    "              metrics=['accuracy'])\n",
    "\n",
    "# model summary\n",
    "model.summary()"
   ]
  },
  {
   "cell_type": "code",
   "execution_count": 17,
   "metadata": {
    "colab": {
     "base_uri": "https://localhost:8080/",
     "height": 207
    },
    "id": "skmaDJMnZTzc",
    "outputId": "aa2a581a-116d-46b1-8766-10066c1c85a7"
   },
   "outputs": [
    {
     "name": "stdout",
     "output_type": "stream",
     "text": [
      "Epoch 1/5\n",
      "1125/1125 [==============================] - 117s 104ms/step - loss: 0.3960 - accuracy: 0.8228 - val_loss: 0.3318 - val_accuracy: 0.8695\n",
      "Epoch 2/5\n",
      "1125/1125 [==============================] - 118s 104ms/step - loss: 0.2975 - accuracy: 0.8821 - val_loss: 0.3000 - val_accuracy: 0.8773\n",
      "Epoch 3/5\n",
      "1125/1125 [==============================] - 118s 105ms/step - loss: 0.2783 - accuracy: 0.8896 - val_loss: 0.2979 - val_accuracy: 0.8798\n",
      "Epoch 4/5\n",
      "1125/1125 [==============================] - 119s 106ms/step - loss: 0.2561 - accuracy: 0.8990 - val_loss: 0.3102 - val_accuracy: 0.8717\n",
      "Epoch 5/5\n",
      "1125/1125 [==============================] - 121s 107ms/step - loss: 0.2329 - accuracy: 0.9115 - val_loss: 0.3164 - val_accuracy: 0.8802\n"
     ]
    }
   ],
   "source": [
    "num_epochs = 5\n",
    "history = model.fit(train_padded, train_labels, \n",
    "                    epochs=num_epochs, verbose=1, \n",
    "                    validation_split=0.1)"
   ]
  },
  {
   "cell_type": "code",
   "execution_count": 18,
   "metadata": {
    "colab": {
     "base_uri": "https://localhost:8080/",
     "height": 204
    },
    "id": "TjEhWEr5Zq7M",
    "outputId": "293cf013-837f-41b4-e62b-4263f536e32d"
   },
   "outputs": [
    {
     "name": "stdout",
     "output_type": "stream",
     "text": [
      "Performance of LSTM Classifier - \n",
      "\n",
      "              precision    recall  f1-score   support\n",
      "\n",
      "           0       0.87      0.87      0.87      5000\n",
      "           1       0.87      0.87      0.87      5000\n",
      "\n",
      "    accuracy                           0.87     10000\n",
      "   macro avg       0.87      0.87      0.87     10000\n",
      "weighted avg       0.87      0.87      0.87     10000\n",
      "\n"
     ]
    }
   ],
   "source": [
    "# Calculate accuracy on Test data\n",
    "\n",
    "# Get probabilities\n",
    "prediction = model.predict(test_padded)\n",
    "\n",
    "# Get labels based on probability 1 if p>= 0.5 else 0\n",
    "test_preds_lstm = np.int32(prediction >= 0.5)\n",
    "\n",
    "# Accuracy : one can use classification_report from sklearn\n",
    "print(\"Performance of LSTM Classifier - \\n\")\n",
    "print(classification_report(test_labels, test_preds_lstm))"
   ]
  },
  {
   "cell_type": "markdown",
   "metadata": {
    "id": "TIICV-ySOYL0"
   },
   "source": [
    "## Get predictions for random examples"
   ]
  },
  {
   "cell_type": "code",
   "execution_count": 19,
   "metadata": {
    "colab": {
     "base_uri": "https://localhost:8080/",
     "height": 102
    },
    "id": "m2RmfNL3OYL0",
    "outputId": "f6daf8fb-d762-48a0-8545-1619c0e8d1bc"
   },
   "outputs": [
    {
     "name": "stdout",
     "output_type": "stream",
     "text": [
      "LSTM Classifier predicted probabilities - \n",
      "[0.92212844, 0.09588553, 0.045102824]\n",
      "\n",
      "LSTM classifier predictions - \n",
      "['positive', 'negative', 'negative']\n"
     ]
    }
   ],
   "source": [
    "# reviews on which we need to predict\n",
    "sentence = [\"The movie was very touching and heart whelming\", \n",
    "            \"I have never seen a terrible movie like this\", \n",
    "            \"the movie plot is terrible but it had good acting\"]\n",
    "\n",
    "# LSTM Classifier - \n",
    "# convert to a sequence\n",
    "sequences = tokenizer.texts_to_sequences([full_preprocess(sent) for sent in sentence])\n",
    "\n",
    "# pad the sequence\n",
    "padded = pad_sequences(sequences, padding='post', maxlen=max_length)\n",
    "\n",
    "# Get probabilities\n",
    "probas = model.predict(padded)\n",
    "print(\"LSTM Classifier predicted probabilities - \")\n",
    "print([p[0] for p in probas])\n",
    "\n",
    "# Get labels based on probability 1 if p>= 0.5 else 0\n",
    "preds = np.int32(probas >= 0.5)\n",
    "\n",
    "label_map = {1: \"positive\", 0: \"negative\"}\n",
    "print(\"\\nLSTM classifier predictions - \")\n",
    "labels = [label_map[p[0]] for p in preds]\n",
    "print(labels)"
   ]
  },
  {
   "cell_type": "code",
   "execution_count": 20,
   "metadata": {
    "colab": {
     "base_uri": "https://localhost:8080/",
     "height": 102
    },
    "id": "PWRD4q9Mb6lo",
    "outputId": "453238e1-bfa7-4185-a83b-ec6f38801f8e"
   },
   "outputs": [
    {
     "name": "stdout",
     "output_type": "stream",
     "text": [
      "Naive-Bayes Classifier predicted probabilities - \n",
      "[0.89637595 0.08451005 0.04191791]\n",
      "\n",
      "Naive-Bayes classifier predictions - \n",
      "['positive', 'negative', 'negative']\n"
     ]
    }
   ],
   "source": [
    "# Naive Bayes Classifier - \n",
    "# convert to a sequence\n",
    "sequences = [full_preprocess(sent) for sent in sentence]\n",
    "\n",
    "# Get probabilities\n",
    "probas = np.float32([get_preds(seq) for seq in sequences])\n",
    "print(\"Naive-Bayes Classifier predicted probabilities - \")\n",
    "print(probas)\n",
    "\n",
    "# Get labels based on probability 1 if p>= 0.5 else 0\n",
    "preds = np.int32(probas >= 0.5)\n",
    "\n",
    "label_map = {1: \"positive\", 0: \"negative\"}\n",
    "print(\"\\nNaive-Bayes classifier predictions - \")\n",
    "labels = [label_map[p] for p in preds]\n",
    "print(labels)"
   ]
  },
  {
   "cell_type": "code",
   "execution_count": 20,
   "metadata": {
    "id": "bUfW2Mw3q3Vy"
   },
   "outputs": [],
   "source": []
  }
 ],
 "metadata": {
  "accelerator": "GPU",
  "colab": {
   "collapsed_sections": [],
   "name": "NLP_Assignment_3.ipynb",
   "provenance": []
  },
  "kernelspec": {
   "display_name": "Python 3",
   "language": "python",
   "name": "python3"
  },
  "language_info": {
   "codemirror_mode": {
    "name": "ipython",
    "version": 3
   },
   "file_extension": ".py",
   "mimetype": "text/x-python",
   "name": "python",
   "nbconvert_exporter": "python",
   "pygments_lexer": "ipython3",
   "version": "3.5.2"
  }
 },
 "nbformat": 4,
 "nbformat_minor": 1
}
